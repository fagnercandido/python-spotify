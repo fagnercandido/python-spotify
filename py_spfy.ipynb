{
 "cells": [
  {
   "cell_type": "code",
   "execution_count": 4,
   "id": "d59d0299-7fa2-4df6-bed9-b5e869fa10ac",
   "metadata": {
    "ExecuteTime": {
     "end_time": "2023-06-16T17:47:16.565668Z",
     "start_time": "2023-06-16T17:47:16.486409Z"
    }
   },
   "outputs": [],
   "source": [
    "import pandas as pd\n",
    "import spotipy\n",
    "from spotipy.oauth2 import SpotifyClientCredentials"
   ]
  },
  {
   "cell_type": "code",
   "execution_count": 13,
   "outputs": [],
   "source": [
    "sp = spotipy.Spotify(auth_manager = SpotifyClientCredentials(client_id=\"\", client_secret=\"\"))"
   ],
   "metadata": {
    "collapsed": false,
    "ExecuteTime": {
     "end_time": "2023-06-17T10:04:00.522912Z",
     "start_time": "2023-06-17T10:04:00.519088Z"
    }
   }
  },
  {
   "cell_type": "code",
   "execution_count": 71,
   "outputs": [],
   "source": [
    "def get_id_artists_by_name(name):\n",
    "    results = sp.search(q = name, limit = 1, type = 'artist')\n",
    "    for idx, artist in enumerate(results['artists']['items']):\n",
    "        return artist['id']\n",
    "\n",
    "def get_artists_albuns(artist):\n",
    "    offset = 0\n",
    "    while(True):\n",
    "        results = sp.artist_albums(artist_id = artist.id, limit = 10, offset = offset)\n",
    "        if results['items']:\n",
    "            for idx, album_results in enumerate(results['items']):\n",
    "                fill_album(artist, album_results)\n",
    "        else:\n",
    "            break\n",
    "        offset = offset + 20\n",
    "\n",
    "def fill_album(artist, album_results):\n",
    "    id_album = album_results['id']\n",
    "    type_album = album_results['type']\n",
    "    total_tracks_album = album_results['total_tracks']\n",
    "    name_album = album_results['name']\n",
    "    release_date_album = album_results['release_date']\n",
    "    uri_album = album_results['uri']\n",
    "    genres_album = None#album_results['genres']\n",
    "    popularity_album = None#album_results['popularity']\n",
    "    tracks = get_tracks(id_album)\n",
    "    album = Album(id_album, type_album, total_tracks_album, name_album, release_date_album, uri_album, genres_album, popularity_album, tracks)\n",
    "    artist.albuns.append(album)\n",
    "\n",
    "def get_tracks(id_album):\n",
    "    tracks = []\n",
    "    results = sp.album_tracks(album_id = id_album)\n",
    "    for idx, track_results in enumerate(results['items']):\n",
    "        id_track = track_results['id']\n",
    "        name_track = track_results['name']\n",
    "        popularity_track = None#track_results['popularity']\n",
    "        duration_ms_track = track_results['duration_ms']\n",
    "        explicit_track = track_results['explicit']\n",
    "        uri_track = track_results['uri']\n",
    "\n",
    "        results_features_tracks = sp.audio_features(tracks=[id_track])\n",
    "        for idx, features_tracks in enumerate(results_features_tracks):\n",
    "            acousticness_track = features_tracks['acousticness']\n",
    "            danceability_track = features_tracks['danceability']\n",
    "            energy_track = features_tracks['energy']\n",
    "            instrumentalness_track = features_tracks['instrumentalness']\n",
    "            liveness_track = features_tracks['liveness']\n",
    "            loudness_track = features_tracks['loudness']\n",
    "            speechiness_track = features_tracks['speechiness']\n",
    "            valence_track = features_tracks['valence']\n",
    "            track = Track(id_track, name_track, popularity_track, duration_ms_track, explicit_track, uri_track, acousticness_track, danceability_track, energy_track, instrumentalness_track, liveness_track, loudness_track, speechiness_track, valence_track)\n",
    "            tracks.append(track)\n",
    "\n",
    "    return tracks\n",
    "\n",
    "class Artist:\n",
    "    def __init__(self, id, albuns = []):\n",
    "        self.id = id\n",
    "        self.albuns = albuns\n",
    "\n",
    "class Album:\n",
    "    def __init__(self, id, type, total_tracks, name, release_date, uri, genres, popularity, tracks = []):\n",
    "        self.id = id\n",
    "        self.type = type\n",
    "        self.total_tracks = total_tracks\n",
    "        self.name = name\n",
    "        self.release_date = release_date\n",
    "        self.uri = uri\n",
    "        self.genres = genres\n",
    "        self.popularity = popularity\n",
    "        self.tracks = tracks\n",
    "\n",
    "class Track:\n",
    "    def __init__(self, id, name, popularity, duration_ms, explicit, uri, acousticness, danceability, energy, instrumentalness, liveness, loudness, speechiness, valence):\n",
    "        self.id = id\n",
    "        self.name = name\n",
    "        self.popularity = popularity\n",
    "        self.duration_ms = duration_ms\n",
    "        self.explicit = explicit\n",
    "        self.uri = uri\n",
    "        self.acousticness = acousticness\n",
    "        self.danceability = danceability\n",
    "        self.energy = energy\n",
    "        self.instrumentalness = instrumentalness\n",
    "        self.liveness = liveness\n",
    "        self.loudness = loudness\n",
    "        self.speechiness = speechiness\n",
    "        self.valence = valence"
   ],
   "metadata": {
    "collapsed": false,
    "ExecuteTime": {
     "end_time": "2023-06-17T12:05:47.034692Z",
     "start_time": "2023-06-17T12:05:47.030140Z"
    }
   }
  },
  {
   "cell_type": "code",
   "execution_count": 72,
   "outputs": [],
   "source": [
    "artist = Artist(get_id_artists_by_name('rita lee'))\n",
    "get_artists_albuns(artist)"
   ],
   "metadata": {
    "collapsed": false,
    "ExecuteTime": {
     "end_time": "2023-06-17T12:06:49.987862Z",
     "start_time": "2023-06-17T12:05:47.588052Z"
    }
   }
  },
  {
   "cell_type": "code",
   "execution_count": 81,
   "outputs": [
    {
     "name": "stdout",
     "output_type": "stream",
     "text": [
      "Rita Lee & Roberto - Classix Remix Vol. III\n",
      "2021-06-25\n",
      "Só De Você - Coppola Remix\n",
      "0.513\n"
     ]
    }
   ],
   "source": [
    "print(artist.albuns[0].name)\n",
    "print(artist.albuns[0].release_date)\n",
    "print(artist.albuns[0].tracks[0].name)\n",
    "print(artist.albuns[0].tracks[0].energy)"
   ],
   "metadata": {
    "collapsed": false,
    "ExecuteTime": {
     "end_time": "2023-06-17T12:09:53.297485Z",
     "start_time": "2023-06-17T12:09:53.294432Z"
    }
   }
  },
  {
   "cell_type": "code",
   "execution_count": null,
   "outputs": [],
   "source": [],
   "metadata": {
    "collapsed": false
   }
  }
 ],
 "metadata": {
  "kernelspec": {
   "display_name": "Python 3 (ipykernel)",
   "language": "python",
   "name": "python3"
  },
  "language_info": {
   "codemirror_mode": {
    "name": "ipython",
    "version": 3
   },
   "file_extension": ".py",
   "mimetype": "text/x-python",
   "name": "python",
   "nbconvert_exporter": "python",
   "pygments_lexer": "ipython3",
   "version": "3.9.12"
  }
 },
 "nbformat": 4,
 "nbformat_minor": 5
}
